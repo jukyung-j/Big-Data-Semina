{
 "cells": [
  {
   "cell_type": "code",
   "execution_count": 25,
   "id": "responsible-parish",
   "metadata": {},
   "outputs": [],
   "source": [
    "import pandas as pd\n",
    "from sklearn.model_selection import train_test_split\n",
    "from sklearn.svm import SVC\n",
    "from sklearn.metrics import accuracy_score\n",
    "from sklearn.neighbors import KNeighborsClassifier"
   ]
  },
  {
   "cell_type": "markdown",
   "id": "appreciated-terrace",
   "metadata": {},
   "source": [
    "  붓꽃 데이터 읽어 들이기"
   ]
  },
  {
   "cell_type": "code",
   "execution_count": 4,
   "id": "harmful-battery",
   "metadata": {},
   "outputs": [],
   "source": [
    "iris_data = pd.read_csv(\"iris.csv\",encoding=\"utf-8\")"
   ]
  },
  {
   "cell_type": "markdown",
   "id": "patent-riding",
   "metadata": {},
   "source": [
    "붓꽃 데이터를 레이블과 입력 데이터로 분리하기"
   ]
  },
  {
   "cell_type": "code",
   "execution_count": 5,
   "id": "proper-absorption",
   "metadata": {},
   "outputs": [],
   "source": [
    "y = iris_data.loc[:,\"Name\"] #결과\n",
    "x = iris_data.loc[:,[\"SepalLength\",\"SepalWidth\",\"PetalLength\",\"PetalWidth\"]] #속성"
   ]
  },
  {
   "cell_type": "markdown",
   "id": "dynamic-finland",
   "metadata": {},
   "source": [
    "학습 전용과 테스트 전용 분리하기"
   ]
  },
  {
   "cell_type": "code",
   "execution_count": 12,
   "id": "acute-fraud",
   "metadata": {},
   "outputs": [],
   "source": [
    "x_train, x_test, y_train, y_test = train_test_split(x, y, test_size = 0.2, train_size = 0.8, shuffle = True)"
   ]
  },
  {
   "cell_type": "code",
   "execution_count": 17,
   "id": "worst-farmer",
   "metadata": {},
   "outputs": [
    {
     "name": "stdout",
     "output_type": "stream",
     "text": [
      "(120, 4) (30, 4)\n"
     ]
    }
   ],
   "source": [
    "print(x_train.shape, x_test.shape)"
   ]
  },
  {
   "cell_type": "code",
   "execution_count": null,
   "id": "silent-fancy",
   "metadata": {},
   "outputs": [],
   "source": [
    "print(y_train.shape, y_test.shape)"
   ]
  },
  {
   "cell_type": "markdown",
   "id": "super-henry",
   "metadata": {},
   "source": [
    "학습하기"
   ]
  },
  {
   "cell_type": "code",
   "execution_count": 28,
   "id": "agreed-shanghai",
   "metadata": {},
   "outputs": [
    {
     "data": {
      "text/plain": [
       "0.9666666666666667"
      ]
     },
     "execution_count": 28,
     "metadata": {},
     "output_type": "execute_result"
    }
   ],
   "source": [
    "kn = KNeighborsClassifier(n_neighbors = 5)\n",
    "kn.fit(x_train, y_train)\n",
    "kn.score(x_test, y_test)"
   ]
  },
  {
   "cell_type": "markdown",
   "id": "conservative-ribbon",
   "metadata": {},
   "source": [
    "테스트 세트에 대한 예측값\n"
   ]
  },
  {
   "cell_type": "code",
   "execution_count": 31,
   "id": "partial-attendance",
   "metadata": {},
   "outputs": [
    {
     "name": "stdout",
     "output_type": "stream",
     "text": [
      "테스트 세트에 대한 예측 값 :  ['Iris-virginica' 'Iris-setosa' 'Iris-setosa' 'Iris-virginica'\n",
      " 'Iris-virginica' 'Iris-virginica' 'Iris-versicolor' 'Iris-setosa'\n",
      " 'Iris-versicolor' 'Iris-setosa' 'Iris-virginica' 'Iris-virginica'\n",
      " 'Iris-versicolor' 'Iris-versicolor' 'Iris-setosa' 'Iris-setosa'\n",
      " 'Iris-versicolor' 'Iris-versicolor' 'Iris-virginica' 'Iris-virginica'\n",
      " 'Iris-setosa' 'Iris-virginica' 'Iris-versicolor' 'Iris-virginica'\n",
      " 'Iris-versicolor' 'Iris-versicolor' 'Iris-virginica' 'Iris-setosa'\n",
      " 'Iris-versicolor' 'Iris-versicolor']\n"
     ]
    }
   ],
   "source": [
    "y_pred = kn.predict(x_test)\n",
    "print(\"테스트 세트에 대한 예측 값 : \",y_pred)"
   ]
  },
  {
   "cell_type": "code",
   "execution_count": null,
   "id": "tracked-rally",
   "metadata": {},
   "outputs": [],
   "source": []
  }
 ],
 "metadata": {
  "kernelspec": {
   "display_name": "Python 3",
   "language": "python",
   "name": "python3"
  },
  "language_info": {
   "codemirror_mode": {
    "name": "ipython",
    "version": 3
   },
   "file_extension": ".py",
   "mimetype": "text/x-python",
   "name": "python",
   "nbconvert_exporter": "python",
   "pygments_lexer": "ipython3",
   "version": "3.7.10"
  }
 },
 "nbformat": 4,
 "nbformat_minor": 5
}
